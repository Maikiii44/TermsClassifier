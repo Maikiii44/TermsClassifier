{
 "cells": [
  {
   "cell_type": "code",
   "execution_count": null,
   "id": "5058c106",
   "metadata": {},
   "outputs": [
    {
     "name": "stderr",
     "output_type": "stream",
     "text": [
      "/Users/maicolrodrigues/Documents/Repos/WIPO%20trademarks%20classification/.venv/lib/python3.12/site-packages/tqdm/auto.py:21: TqdmWarning: IProgress not found. Please update jupyter and ipywidgets. See https://ipywidgets.readthedocs.io/en/stable/user_install.html\n",
      "  from .autonotebook import tqdm as notebook_tqdm\n"
     ]
    }
   ],
   "source": [
    "import pandas as pd\n",
    "from transformers import AutoTokenizer\n",
    "\n",
    "from terms.utils import tokenize_to_ds\n",
    "from terms.schemas import TermsDataModel\n",
    "from terms.preprocess import preprocess\n",
    "from terms.constants import DEFAULT_TOKENIZER_CONFIG\n",
    "\n",
    "FILENAME_CORRECTED = \"../data/terms_class_corrected.xlsx\"\n",
    "PRETRAINED_MODEL =\"BAAI/bge-small-en-v1.5\""
   ]
  },
  {
   "cell_type": "code",
   "execution_count": null,
   "id": "5fab8f23",
   "metadata": {},
   "outputs": [],
   "source": [
    "df = pd.read_excel(FILENAME_CORRECTED)\n",
    "df = df[[\"term\", \"true_class\"]]\n",
    "df = df.rename(columns={\"term\" : TermsDataModel.Terms, \"true_class\" : TermsDataModel.NiceClass})"
   ]
  },
  {
   "cell_type": "code",
   "execution_count": 3,
   "id": "8a5e03f1",
   "metadata": {},
   "outputs": [],
   "source": [
    "df_preprocess = preprocess(dataframe=df)"
   ]
  },
  {
   "cell_type": "code",
   "execution_count": null,
   "id": "1148e6f3",
   "metadata": {},
   "outputs": [
    {
     "name": "stderr",
     "output_type": "stream",
     "text": [
      "Tokenising (num_proc=12): 100%|██████████| 1386/1386 [00:00<00:00, 11809.49 examples/s]\n"
     ]
    }
   ],
   "source": [
    "tokenizer = AutoTokenizer.from_pretrained(pretrained_model_name_or_path=PRETRAINED_MODEL, rust_remote_code=True)\n",
    "\n",
    "def tokenize(batch):\n",
    "    return tokenizer(batch[TermsDataModel.Terms], **DEFAULT_TOKENIZER_CONFIG)\n",
    "\n",
    "ds_tokenize = tokenize_to_ds(dataframe=df_preprocess, tokenize_function=tokenize, extras_cols_to_keep=[TermsDataModel.Terms, TermsDataModel.NiceClass])"
   ]
  },
  {
   "cell_type": "code",
   "execution_count": 7,
   "id": "b345f1de",
   "metadata": {},
   "outputs": [
    {
     "data": {
      "text/plain": [
       "{'Terms': 'parts and accessories for all the aforesaid goods, included in this class',\n",
       " 'NiceClass': 9,\n",
       " 'input_ids': [101,\n",
       "  3033,\n",
       "  1998,\n",
       "  16611,\n",
       "  2005,\n",
       "  2035,\n",
       "  1996,\n",
       "  21358,\n",
       "  16610,\n",
       "  14326,\n",
       "  5350,\n",
       "  1010,\n",
       "  2443,\n",
       "  1999,\n",
       "  2023,\n",
       "  2465,\n",
       "  102],\n",
       " 'token_type_ids': [0, 0, 0, 0, 0, 0, 0, 0, 0, 0, 0, 0, 0, 0, 0, 0, 0],\n",
       " 'attention_mask': [1, 1, 1, 1, 1, 1, 1, 1, 1, 1, 1, 1, 1, 1, 1, 1, 1]}"
      ]
     },
     "execution_count": 7,
     "metadata": {},
     "output_type": "execute_result"
    }
   ],
   "source": [
    "ds_tokenize[0]"
   ]
  }
 ],
 "metadata": {
  "kernelspec": {
   "display_name": ".venv",
   "language": "python",
   "name": "python3"
  },
  "language_info": {
   "codemirror_mode": {
    "name": "ipython",
    "version": 3
   },
   "file_extension": ".py",
   "mimetype": "text/x-python",
   "name": "python",
   "nbconvert_exporter": "python",
   "pygments_lexer": "ipython3",
   "version": "3.12.10"
  }
 },
 "nbformat": 4,
 "nbformat_minor": 5
}
