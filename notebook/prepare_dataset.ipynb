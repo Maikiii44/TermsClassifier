{
 "cells": [
  {
   "cell_type": "code",
   "execution_count": null,
   "id": "892393b5",
   "metadata": {},
   "outputs": [],
   "source": [
    "import pandas as pd\n",
    "from terms.schemas import TermsDataModel\n",
    "from terms.preprocess import subsample, preprocess\n",
    "from terms.constants import COL_CLASSES, COL_LABELS, COL_EXAMINER_DECISION\n",
    "\n",
    "FILENAME_NICE = \"../data/alphabetical_list.csv\"\n",
    "FILENAME_DB = \"../data/en_all_list.parquet\"\n",
    "\n",
    "df_nice = pd.read_csv(FILENAME_NICE)\n",
    "df_db = pd.read_parquet(FILENAME_DB)"
   ]
  },
  {
   "cell_type": "code",
   "execution_count": null,
   "id": "5bb74770",
   "metadata": {},
   "outputs": [],
   "source": [
    "df_nice = df_nice[df_nice[\"language\"]==\"en\"]\n",
    "df_nice = df_nice.rename(columns={\"class_number\" : \"NiceClass\", \"term\": \"Terms\"})\n",
    "\n",
    "list_cols = [col for col in df_nice.columns if col in TermsDataModel.__annotations__.keys()]\n",
    "df_nice = df_nice[list_cols]"
   ]
  },
  {
   "cell_type": "code",
   "execution_count": null,
   "id": "760560a1",
   "metadata": {},
   "outputs": [],
   "source": [
    "map_cols = {COL_CLASSES : TermsDataModel.NiceClass, COL_EXAMINER_DECISION : TermsDataModel.Terms, \"ID\" : TermsDataModel.Id}\n",
    "list_cols = list(TermsDataModel.__annotations__.keys())\n",
    "df_db = df_db.rename(columns=map_cols)\n",
    "df_db = df_db[list_cols]"
   ]
  },
  {
   "cell_type": "code",
   "execution_count": null,
   "id": "cdabb0e3",
   "metadata": {},
   "outputs": [],
   "source": [
    "df_nice_pre = preprocess(dataframe=df_nice, remove_duplicate_terms=True)\n",
    "df_db_pre = preprocess(dataframe=df_db, remove_duplicate_terms=True)"
   ]
  },
  {
   "cell_type": "code",
   "execution_count": 5,
   "id": "59a87cf8",
   "metadata": {},
   "outputs": [],
   "source": [
    "df = subsample(data_base=df_db_pre, data_complementary=df_db_pre)"
   ]
  },
  {
   "cell_type": "code",
   "execution_count": 7,
   "id": "b465ad82",
   "metadata": {},
   "outputs": [
    {
     "data": {
      "text/plain": [
       "(18000, 3)"
      ]
     },
     "execution_count": 7,
     "metadata": {},
     "output_type": "execute_result"
    }
   ],
   "source": [
    "df.shape"
   ]
  }
 ],
 "metadata": {
  "kernelspec": {
   "display_name": ".venv",
   "language": "python",
   "name": "python3"
  },
  "language_info": {
   "codemirror_mode": {
    "name": "ipython",
    "version": 3
   },
   "file_extension": ".py",
   "mimetype": "text/x-python",
   "name": "python",
   "nbconvert_exporter": "python",
   "pygments_lexer": "ipython3",
   "version": "3.12.10"
  }
 },
 "nbformat": 4,
 "nbformat_minor": 5
}
