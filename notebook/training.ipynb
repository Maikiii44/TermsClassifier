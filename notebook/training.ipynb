{
 "cells": [
  {
   "cell_type": "code",
   "execution_count": null,
   "id": "2474a104",
   "metadata": {},
   "outputs": [
    {
     "name": "stderr",
     "output_type": "stream",
     "text": [
      "/Users/maicolrodrigues/Documents/Repos/WIPO%20trademarks%20classification/.venv/lib/python3.12/site-packages/tqdm/auto.py:21: TqdmWarning: IProgress not found. Please update jupyter and ipywidgets. See https://ipywidgets.readthedocs.io/en/stable/user_install.html\n",
      "  from .autonotebook import tqdm as notebook_tqdm\n"
     ]
    }
   ],
   "source": [
    "from terms.model.data import TermsDataModule\n",
    "from terms.model.metrics import get_metrics\n",
    "from terms.model.train import TermsTrainer\n",
    "from terms.model.module import TermsModule\n",
    "\n",
    "from terms.config import BaseLoraConfig\n",
    "from terms.preprocess import preprocess, subsample\n",
    "from terms.schemas import TermsDataModel\n",
    "from terms.constants import COL_CLASSES, COL_LABELS, COL_EXAMINER_DECISION\n",
    "\n",
    "import pandas as pd"
   ]
  },
  {
   "cell_type": "code",
   "execution_count": 2,
   "id": "c68bdcfc",
   "metadata": {},
   "outputs": [],
   "source": [
    "PRETRAINED_MODEL =\"BAAI/bge-small-en-v1.5\"\n",
    "MODEL_DIR = f\"./model_{PRETRAINED_MODEL.replace(\"/\", \"_\")}\""
   ]
  },
  {
   "cell_type": "code",
   "execution_count": 3,
   "id": "43792ce1",
   "metadata": {},
   "outputs": [],
   "source": [
    "FILENAME_NICE = \"../data/alphabetical_list.csv\"\n",
    "FILENAME_DB = \"../data/en_all_list.parquet\"\n",
    "\n",
    "df_nice = pd.read_csv(FILENAME_NICE)\n",
    "df_db = pd.read_parquet(FILENAME_DB)"
   ]
  },
  {
   "cell_type": "code",
   "execution_count": null,
   "id": "e589ac2d",
   "metadata": {},
   "outputs": [],
   "source": [
    "df_nice = df_nice[df_nice[\"language\"]==\"en\"]\n",
    "df_nice = df_nice.rename(columns={\"class_number\" : \"NiceClass\", \"term\": \"Terms\"})\n",
    "\n",
    "list_cols = [col for col in df_nice.columns if col in TermsDataModel.__annotations__.keys()]\n",
    "df_nice = df_nice[list_cols]"
   ]
  },
  {
   "cell_type": "code",
   "execution_count": null,
   "id": "c5802ab3",
   "metadata": {},
   "outputs": [],
   "source": [
    "map_cols = {COL_CLASSES : TermsDataModel.NiceClass, COL_EXAMINER_DECISION : TermsDataModel.Terms, \"ID\" : TermsDataModel.Id}\n",
    "list_cols = list(TermsDataModel.__annotations__.keys())\n",
    "df_db = df_db.rename(columns=map_cols)\n",
    "df_db = df_db[list_cols]"
   ]
  },
  {
   "cell_type": "code",
   "execution_count": null,
   "id": "ef713e18",
   "metadata": {},
   "outputs": [],
   "source": [
    "df_nice_pre = preprocess(dataframe=df_nice, remove_duplicate_terms=True)\n",
    "df_db_pre = preprocess(dataframe=df_db, remove_duplicate_terms=True)\n",
    "df = subsample(data_base=df_db_pre, data_complementary=df_db_pre, threshold_per_class=80)\n",
    "df.to_parquet(\"data_small.parquet\")\n",
    "\n",
    "\n",
    "map_id_to_nice = {id: nice for id, nice in enumerate(df[TermsDataModel.NiceClass].unique().tolist())}\n",
    "map_nice_to_id = {nice : id for id, nice in map_id_to_nice.items()} \n",
    "\n",
    "df[TermsDataModel.NiceClass] = df[TermsDataModel.NiceClass].map(map_nice_to_id)"
   ]
  },
  {
   "cell_type": "code",
   "execution_count": null,
   "id": "f7d1b965",
   "metadata": {},
   "outputs": [],
   "source": [
    "from sklearn.model_selection import train_test_split\n",
    "\n",
    "df_train, df_temp = train_test_split(\n",
    "    df, \n",
    "    test_size=0.3, \n",
    "    shuffle=True, \n",
    "    stratify=df[TermsDataModel.NiceClass],\n",
    "    random_state=42\n",
    ")\n",
    "\n",
    "df_test, df_val = train_test_split(\n",
    "    df_temp, \n",
    "    test_size=0.5, \n",
    "    shuffle=True, \n",
    "    stratify=df_temp[TermsDataModel.NiceClass], \n",
    "    random_state=42\n",
    ")\n",
    "\n",
    "num_classes = len(df_train.NiceClass.unique())"
   ]
  },
  {
   "cell_type": "code",
   "execution_count": null,
   "id": "3d91b55b",
   "metadata": {},
   "outputs": [],
   "source": [
    "tokenizer_kwargs=dict(                 \n",
    "    padding=\"max_length\",\n",
    "    truncation=True,\n",
    "    max_length=100,\n",
    ")\n",
    "\n",
    "pl_datamodule = TermsDataModule(\n",
    "    df_train = df_train,\n",
    "    df_val = df_val,\n",
    "    df_test = df_test,\n",
    "    pretrained_model_name=PRETRAINED_MODEL,\n",
    "    tokenizer_kwargs=tokenizer_kwargs,\n",
    "    model_dir=MODEL_DIR\n",
    ")"
   ]
  },
  {
   "cell_type": "code",
   "execution_count": null,
   "id": "e34e8812",
   "metadata": {},
   "outputs": [],
   "source": [
    "metrics = get_metrics(num_classes=num_classes, top_k=[1,3])"
   ]
  },
  {
   "cell_type": "code",
   "execution_count": null,
   "id": "196c923b",
   "metadata": {},
   "outputs": [],
   "source": [
    "import torch\n",
    "from peft import LoraConfig, TaskType\n",
    "from transformers import BitsAndBytesConfig\n",
    "\n",
    "lora_cfg = LoraConfig(\n",
    "    r=16,\n",
    "    lora_alpha=32,\n",
    "    lora_dropout=0.05,\n",
    "    target_modules=\"all-linear\",\n",
    "    bias=\"none\",\n",
    "    task_type=TaskType.SEQ_CLS,        \n",
    "    modules_to_save=[\"classifier\"],    \n",
    ")\n",
    "\n",
    "# quantisation_config = BitsAndBytesConfig(\n",
    "#     load_in_4bit=True,\n",
    "#     bnb_4bit_quant_type=\"nf4\",\n",
    "#     bnb_4bit_use_double_quant=True,\n",
    "#     bnb_4bit_compute_dtype=torch.bfloat16,\n",
    "# )\n",
    "\n",
    "\n",
    "pl_model = TermsModule.from_peft_config(\n",
    "    pretrained_model_name=PRETRAINED_MODEL, \n",
    "    num_classes=num_classes,\n",
    "    metrics = metrics,\n",
    "    lora_config=lora_cfg,\n",
    "    # quantisation_config = quantisation_config\n",
    "    )\n",
    "\n",
    "print(\"pad_token_id:\", pl_model.model.base_model.config.pad_token_id)"
   ]
  },
  {
   "cell_type": "code",
   "execution_count": null,
   "id": "c2e9e5a6",
   "metadata": {},
   "outputs": [],
   "source": [
    "trainer = TermsTrainer(\n",
    "    pl_datamodule=pl_datamodule,\n",
    "    pl_model=pl_model,\n",
    "    max_epochs=100,\n",
    "    model_dir = f\"./model_{PRETRAINED_MODEL.replace(\"/\", \"_\")}\",\n",
    "    precision = \"bf16-mixed\"\n",
    ")"
   ]
  },
  {
   "cell_type": "code",
   "execution_count": null,
   "id": "a391dc62",
   "metadata": {},
   "outputs": [],
   "source": [
    "trainer.train()"
   ]
  },
  {
   "cell_type": "code",
   "execution_count": null,
   "id": "a068f6d4",
   "metadata": {},
   "outputs": [],
   "source": [
    "trainer.test()"
   ]
  },
  {
   "cell_type": "code",
   "execution_count": null,
   "id": "0e725ad4",
   "metadata": {},
   "outputs": [],
   "source": [
    "import torch\n",
    "from transformers import AutoConfig, AutoModelForSequenceClassification\n",
    "from peft import PeftModel\n",
    "\n",
    "device = torch.device(\"cuda\" if torch.cuda.is_available() else \"cpu\")\n",
    "\n",
    "cfg          = AutoConfig.from_pretrained(\"BAAI/bge-small-en-v1.5\")\n",
    "cfg.num_labels = 45\n",
    "\n",
    "base = AutoModelForSequenceClassification.from_pretrained(\n",
    "          \"BAAI/bge-small-en-v1.5\", config=cfg)\n",
    "\n",
    "model = PeftModel.from_pretrained(\n",
    "          model     = base,\n",
    "          model_id  =\"./model_BAAI_bge-small-en-v1.5/checkpoints/peft_adapter\",\n",
    ")\n",
    "model.eval().to(device)\n"
   ]
  },
  {
   "cell_type": "code",
   "execution_count": null,
   "id": "b37151a9",
   "metadata": {},
   "outputs": [],
   "source": [
    "import torch\n",
    "from torchmetrics import MetricCollection, Accuracy, Precision, Recall\n",
    "\n",
    "metrics = MetricCollection({\n",
    "    \"acc_macro\"    : Accuracy(task=\"multiclass\", num_classes=45, average=\"macro\", top_k=1),\n",
    "    \"acc_micro\"    : Accuracy(task=\"multiclass\", num_classes=45, average=\"micro\",top_k=1),\n",
    "    \"acc_weighted\" : Accuracy(task=\"multiclass\", num_classes=45, average=\"weighted\",top_k=1),\n",
    "    \"prec_macro\"   : Precision(task=\"multiclass\", num_classes=45, average=\"macro\",top_k=1),\n",
    "    \"prec_micro\"   : Precision(task=\"multiclass\", num_classes=45, average=\"micro\",top_k=1),\n",
    "    \"prec_weighted\": Precision(task=\"multiclass\", num_classes=45, average=\"weighted\",top_k=1),\n",
    "    \"rec_macro\"    : Recall(task=\"multiclass\", num_classes=45, average=\"macro\",top_k=1),\n",
    "    \"rec_micro\"    : Recall(task=\"multiclass\", num_classes=45, average=\"micro\",top_k=1),\n",
    "    \"rec_weighted\" : Recall(task=\"multiclass\", num_classes=45, average=\"weighted\",top_k=1),\n",
    "}).to(device)\n",
    "\n",
    "model.eval()\n",
    "with torch.no_grad():\n",
    "    for batch in pl_datamodule.test_dataloader():\n",
    "        labels = batch[\"labels\"].to(device)\n",
    "        inputs = {k: v.to(device) for k, v in batch.items() if k != \"labels\"}\n",
    "        probs  = model(**inputs).logits.softmax(dim=-1)\n",
    "        metrics.update(probs, labels)\n",
    "\n",
    "print(metrics.compute())\n"
   ]
  },
  {
   "cell_type": "code",
   "execution_count": null,
   "id": "89cee3ff",
   "metadata": {},
   "outputs": [],
   "source": [
    "from peft import PeftModel\n",
    "from transformers import AutoModelForSequenceClassification\n",
    "\n",
    "# (a) rebuild the PEFT model that belongs to this checkpoint\n",
    "base_model = AutoModelForSequenceClassification.from_pretrained(\n",
    "    \"BAAI/bge-small-en-v1.5\",\n",
    "    num_labels=45,\n",
    ")\n",
    "adapter_dir = \"./model_BAAI_bge-small-en-v1.5/checkpoints/peft_adapter\"\n",
    "peft_model = PeftModel.from_pretrained(base_model, adapter_dir)\n",
    "\n",
    "# (b) metrics collection (must match what you used in training)\n",
    "metrics = get_metrics(num_classes=45, top_k=[1, 3])\n",
    "\n",
    "# (c) now load the LightningModule\n",
    "best_ckpt = (\n",
    "    \"./model_BAAI_bge-small-en-v1.5/checkpoints/\"\n",
    "    \"BAAI_bge-small-en-v1.5_epoch=15_val_loss=1.27.ckpt\"\n",
    ")\n",
    "\n",
    "pl_module = TermsModule.load_from_checkpoint(\n",
    "    best_ckpt,\n",
    "    model=peft_model,          # <-- supply the args Lightning doesn't have\n",
    "    metrics=metrics,           #     (anything you put in `ignore=…`)\n",
    "    strict=True,               # optional: keep default\n",
    ")\n"
   ]
  },
  {
   "cell_type": "code",
   "execution_count": null,
   "id": "f112a34a",
   "metadata": {},
   "outputs": [],
   "source": []
  },
  {
   "cell_type": "code",
   "execution_count": null,
   "id": "80463c76",
   "metadata": {},
   "outputs": [],
   "source": []
  }
 ],
 "metadata": {
  "kernelspec": {
   "display_name": ".venv",
   "language": "python",
   "name": "python3"
  },
  "language_info": {
   "codemirror_mode": {
    "name": "ipython",
    "version": 3
   },
   "file_extension": ".py",
   "mimetype": "text/x-python",
   "name": "python",
   "nbconvert_exporter": "python",
   "pygments_lexer": "ipython3",
   "version": "3.12.10"
  }
 },
 "nbformat": 4,
 "nbformat_minor": 5
}
